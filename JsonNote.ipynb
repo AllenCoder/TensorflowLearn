{
 "cells": [
  {
   "cell_type": "code",
   "execution_count": 1,
   "metadata": {
    "collapsed": true
   },
   "outputs": [],
   "source": [
    "import os as os\n",
    "import pandas as pd\n",
    "import numpy as np\n",
    "import matplotlib.pyplot as plt"
   ]
  },
  {
   "cell_type": "code",
   "execution_count": 2,
   "metadata": {},
   "outputs": [
    {
     "data": {
      "text/plain": [
       "'D:\\\\Tensorflow'"
      ]
     },
     "execution_count": 2,
     "metadata": {},
     "output_type": "execute_result"
    }
   ],
   "source": [
    "os.getcwd()"
   ]
  },
  {
   "cell_type": "code",
   "execution_count": 3,
   "metadata": {},
   "outputs": [
    {
     "data": {
      "text/html": [
       "<div>\n",
       "<style>\n",
       "    .dataframe thead tr:only-child th {\n",
       "        text-align: right;\n",
       "    }\n",
       "\n",
       "    .dataframe thead th {\n",
       "        text-align: left;\n",
       "    }\n",
       "\n",
       "    .dataframe tbody tr th {\n",
       "        vertical-align: top;\n",
       "    }\n",
       "</style>\n",
       "<table border=\"1\" class=\"dataframe\">\n",
       "  <thead>\n",
       "    <tr style=\"text-align: right;\">\n",
       "      <th></th>\n",
       "      <th>dependencies</th>\n",
       "      <th>name</th>\n",
       "      <th>private</th>\n",
       "      <th>scripts</th>\n",
       "      <th>version</th>\n",
       "    </tr>\n",
       "  </thead>\n",
       "  <tbody>\n",
       "    <tr>\n",
       "      <th>body-parser</th>\n",
       "      <td>~1.17.1</td>\n",
       "      <td>jsserver</td>\n",
       "      <td>True</td>\n",
       "      <td>NaN</td>\n",
       "      <td>0.0.0</td>\n",
       "    </tr>\n",
       "    <tr>\n",
       "      <th>cookie-parser</th>\n",
       "      <td>~1.4.3</td>\n",
       "      <td>jsserver</td>\n",
       "      <td>True</td>\n",
       "      <td>NaN</td>\n",
       "      <td>0.0.0</td>\n",
       "    </tr>\n",
       "    <tr>\n",
       "      <th>debug</th>\n",
       "      <td>~2.6.3</td>\n",
       "      <td>jsserver</td>\n",
       "      <td>True</td>\n",
       "      <td>NaN</td>\n",
       "      <td>0.0.0</td>\n",
       "    </tr>\n",
       "    <tr>\n",
       "      <th>express</th>\n",
       "      <td>~4.15.2</td>\n",
       "      <td>jsserver</td>\n",
       "      <td>True</td>\n",
       "      <td>NaN</td>\n",
       "      <td>0.0.0</td>\n",
       "    </tr>\n",
       "    <tr>\n",
       "      <th>jade</th>\n",
       "      <td>~1.11.0</td>\n",
       "      <td>jsserver</td>\n",
       "      <td>True</td>\n",
       "      <td>NaN</td>\n",
       "      <td>0.0.0</td>\n",
       "    </tr>\n",
       "    <tr>\n",
       "      <th>morgan</th>\n",
       "      <td>~1.8.1</td>\n",
       "      <td>jsserver</td>\n",
       "      <td>True</td>\n",
       "      <td>NaN</td>\n",
       "      <td>0.0.0</td>\n",
       "    </tr>\n",
       "    <tr>\n",
       "      <th>serve-favicon</th>\n",
       "      <td>~2.4.2</td>\n",
       "      <td>jsserver</td>\n",
       "      <td>True</td>\n",
       "      <td>NaN</td>\n",
       "      <td>0.0.0</td>\n",
       "    </tr>\n",
       "    <tr>\n",
       "      <th>start</th>\n",
       "      <td>NaN</td>\n",
       "      <td>jsserver</td>\n",
       "      <td>True</td>\n",
       "      <td>node ./bin/www</td>\n",
       "      <td>0.0.0</td>\n",
       "    </tr>\n",
       "  </tbody>\n",
       "</table>\n",
       "</div>"
      ],
      "text/plain": [
       "<div>\n",
       "<style>\n",
       "    .dataframe thead tr:only-child th {\n",
       "        text-align: right;\n",
       "    }\n",
       "\n",
       "    .dataframe thead th {\n",
       "        text-align: left;\n",
       "    }\n",
       "\n",
       "    .dataframe tbody tr th {\n",
       "        vertical-align: top;\n",
       "    }\n",
       "</style>\n",
       "<table border=\"1\" class=\"dataframe\">\n",
       "  <thead>\n",
       "    <tr style=\"text-align: right;\">\n",
       "      <th></th>\n",
       "      <th>dependencies</th>\n",
       "      <th>name</th>\n",
       "      <th>private</th>\n",
       "      <th>scripts</th>\n",
       "      <th>version</th>\n",
       "    </tr>\n",
       "  </thead>\n",
       "  <tbody>\n",
       "    <tr>\n",
       "      <th>body-parser</th>\n",
       "      <td>~1.17.1</td>\n",
       "      <td>jsserver</td>\n",
       "      <td>True</td>\n",
       "      <td>NaN</td>\n",
       "      <td>0.0.0</td>\n",
       "    </tr>\n",
       "    <tr>\n",
       "      <th>cookie-parser</th>\n",
       "      <td>~1.4.3</td>\n",
       "      <td>jsserver</td>\n",
       "      <td>True</td>\n",
       "      <td>NaN</td>\n",
       "      <td>0.0.0</td>\n",
       "    </tr>\n",
       "    <tr>\n",
       "      <th>debug</th>\n",
       "      <td>~2.6.3</td>\n",
       "      <td>jsserver</td>\n",
       "      <td>True</td>\n",
       "      <td>NaN</td>\n",
       "      <td>0.0.0</td>\n",
       "    </tr>\n",
       "    <tr>\n",
       "      <th>express</th>\n",
       "      <td>~4.15.2</td>\n",
       "      <td>jsserver</td>\n",
       "      <td>True</td>\n",
       "      <td>NaN</td>\n",
       "      <td>0.0.0</td>\n",
       "    </tr>\n",
       "    <tr>\n",
       "      <th>jade</th>\n",
       "      <td>~1.11.0</td>\n",
       "      <td>jsserver</td>\n",
       "      <td>True</td>\n",
       "      <td>NaN</td>\n",
       "      <td>0.0.0</td>\n",
       "    </tr>\n",
       "    <tr>\n",
       "      <th>morgan</th>\n",
       "      <td>~1.8.1</td>\n",
       "      <td>jsserver</td>\n",
       "      <td>True</td>\n",
       "      <td>NaN</td>\n",
       "      <td>0.0.0</td>\n",
       "    </tr>\n",
       "    <tr>\n",
       "      <th>serve-favicon</th>\n",
       "      <td>~2.4.2</td>\n",
       "      <td>jsserver</td>\n",
       "      <td>True</td>\n",
       "      <td>NaN</td>\n",
       "      <td>0.0.0</td>\n",
       "    </tr>\n",
       "    <tr>\n",
       "      <th>start</th>\n",
       "      <td>NaN</td>\n",
       "      <td>jsserver</td>\n",
       "      <td>True</td>\n",
       "      <td>node ./bin/www</td>\n",
       "      <td>0.0.0</td>\n",
       "    </tr>\n",
       "  </tbody>\n",
       "</table>\n",
       "</div>"
      ]
     },
     "execution_count": 3,
     "metadata": {},
     "output_type": "execute_result"
    }
   ],
   "source": [
    "pd.read_json('package.json')"
   ]
  },
  {
   "cell_type": "code",
   "execution_count": 4,
   "metadata": {},
   "outputs": [],
   "source": [
    "data = pd.read_json('package.json')"
   ]
  },
  {
   "cell_type": "code",
   "execution_count": 5,
   "metadata": {},
   "outputs": [
    {
     "data": {
      "text/plain": [
       "body-parser      0.0.0\ncookie-parser    0.0.0\ndebug            0.0.0\nexpress          0.0.0\njade             0.0.0\nmorgan           0.0.0\nserve-favicon    0.0.0\nstart            0.0.0\nName: version, dtype: object"
      ]
     },
     "execution_count": 5,
     "metadata": {},
     "output_type": "execute_result"
    }
   ],
   "source": [
    "data['version']\n",
    "    \n",
    "    \n",
    "    \n",
    "    \n",
    "    "
   ]
  },
  {
   "cell_type": "code",
   "execution_count": null,
   "metadata": {},
   "outputs": [],
   "source": []
  }
 ],
 "metadata": {
  "kernelspec": {
   "display_name": "Python 2",
   "language": "python",
   "name": "python2"
  },
  "language_info": {
   "codemirror_mode": {
    "name": "ipython",
    "version": 2
   },
   "file_extension": ".py",
   "mimetype": "text/x-python",
   "name": "python",
   "nbconvert_exporter": "python",
   "pygments_lexer": "ipython2",
   "version": "2.7.6"
  }
 },
 "nbformat": 4,
 "nbformat_minor": 0
}
